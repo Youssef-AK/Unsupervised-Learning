{
 "cells": [
  {
   "cell_type": "markdown",
   "id": "a0391f49-91f3-487d-82e4-fc623f2ae450",
   "metadata": {},
   "source": [
    "# Clustering \n",
    "Clustering is a set of techniques used to partition data into groups, or clusters. Clusters are loosely defined as groups of data objects that are more similar to other objects in their cluster than they are to data objects in other clusters. \n",
    "\n",
    "\n",
    "Many clustering algorithms are available in Scikit-Learn and elsewhere, but perhaps the simplest to understand is an algorithm known as k-means clustering, which is implemented in `sklearn.cluster.KMeans`."
   ]
  },
  {
   "cell_type": "markdown",
   "id": "c234837e-d557-439f-9ce5-1e96b65d8cfe",
   "metadata": {},
   "source": [
    "# K-Means Clustering Algorithm\n",
    "The k-means algorithm searches for a pre-determined number of clusters within an unlabeled multidimensional dataset. It accomplishes this using a simple conception of what the optimal clustering looks like.\n",
    "\n",
    "The \"cluster center\" is the arithmetic mean of all the points belonging to the cluster.\n",
    "Each point is closer to its own cluster center than to other cluster centers."
   ]
  },
  {
   "cell_type": "markdown",
   "id": "1874eba1-aa59-41d7-86b9-76fef706b193",
   "metadata": {},
   "source": [
    "## Working\n",
    "Conventional k-means requires only a few steps. The first step is to randomly select k centroids, where k is equal to the number of clusters you choose. Centroids are data points representing the center of a cluster.\n",
    "\n",
    "The main element of the algorithm works by a two-step process called expectation-maximization. The expectation step assigns each data point to its nearest centroid. Then, the maximization step computes the mean of all the points for each cluster and sets the new centroid. Here’s what the conventional version of the k-means algorithm looks like:\n",
    "\n",
    "![](https://files.realpython.com/media/kmeans-algorithm.a94498a7ecd2.png)"
   ]
  },
  {
   "cell_type": "code",
   "execution_count": 2,
   "id": "91c09bf1-2c2d-4479-a713-923df5436d4e",
   "metadata": {},
   "outputs": [
    {
     "name": "stdout",
     "output_type": "stream",
     "text": [
      "Collecting kneed\n",
      "  Downloading kneed-0.7.0-py2.py3-none-any.whl (9.4 kB)\n",
      "Requirement already satisfied: matplotlib in c:\\programdata\\anaconda3\\lib\\site-packages (from kneed) (3.3.4)\n",
      "Requirement already satisfied: numpy>=1.14.2 in c:\\programdata\\anaconda3\\lib\\site-packages (from kneed) (1.20.1)\n",
      "Requirement already satisfied: scipy in c:\\programdata\\anaconda3\\lib\\site-packages (from kneed) (1.6.2)\n",
      "Requirement already satisfied: pillow>=6.2.0 in c:\\programdata\\anaconda3\\lib\\site-packages (from matplotlib->kneed) (8.2.0)\n",
      "Requirement already satisfied: pyparsing!=2.0.4,!=2.1.2,!=2.1.6,>=2.0.3 in c:\\programdata\\anaconda3\\lib\\site-packages (from matplotlib->kneed) (2.4.7)\n",
      "Requirement already satisfied: kiwisolver>=1.0.1 in c:\\programdata\\anaconda3\\lib\\site-packages (from matplotlib->kneed) (1.3.1)\n",
      "Requirement already satisfied: cycler>=0.10 in c:\\programdata\\anaconda3\\lib\\site-packages (from matplotlib->kneed) (0.10.0)\n",
      "Requirement already satisfied: python-dateutil>=2.1 in c:\\programdata\\anaconda3\\lib\\site-packages (from matplotlib->kneed) (2.8.1)\n",
      "Requirement already satisfied: six in c:\\programdata\\anaconda3\\lib\\site-packages (from cycler>=0.10->matplotlib->kneed) (1.15.0)\n",
      "Installing collected packages: kneed\n",
      "Successfully installed kneed-0.7.0\n"
     ]
    }
   ],
   "source": [
    "!pip install kneed"
   ]
  },
  {
   "cell_type": "code",
   "execution_count": 3,
   "id": "fa96bf5f-3f1d-4f88-8325-304b255cec2e",
   "metadata": {},
   "outputs": [],
   "source": [
    "# Import Required Modules\n",
    "import matplotlib.pyplot as plt\n",
    "\n",
    "from kneed import KneeLocator\n",
    "from sklearn.datasets import make_blobs\n",
    "from sklearn.cluster import KMeans\n",
    "from sklearn.preprocessing import StandardScaler"
   ]
  },
  {
   "cell_type": "markdown",
   "id": "dee46e85-0d41-4602-9efb-dc2d581b2a4f",
   "metadata": {},
   "source": [
    "First, let's generate a two-dimensional dataset containing four distinct blobs. \n",
    "\n",
    "make_blobs() is a convenience function in scikit-learn used to generate synthetic clusters. It uses these parameters:\n",
    "\n",
    "* n_samples is the total number of samples to generate.\n",
    "* centers is the number of centers to generate.\n",
    "* cluster_std is the standard deviation.\n",
    "\n",
    "Nondeterministic machine learning algorithms like k-means are difficult to reproduce. The random_state parameter is set to an integer value so you can follow the data presented in the tutorial.\n",
    "\n",
    "make_blobs() returns a tuple of two values:\n",
    "\n",
    "* A two-dimensional NumPy array with the x- and y-values for each of the samples\n",
    "* A one-dimensional NumPy array containing the cluster labels for each sample"
   ]
  },
  {
   "cell_type": "code",
   "execution_count": 7,
   "id": "7602905d-c774-4062-9429-36fbc9c2bec0",
   "metadata": {},
   "outputs": [],
   "source": [
    "features, true_labels = make_blobs(\n",
    "    n_samples= 300,\n",
    "    centers= 4,\n",
    "    cluster_std= 0.60,\n",
    "    random_state= 42\n",
    ")"
   ]
  },
  {
   "cell_type": "code",
   "execution_count": 8,
   "id": "bbe346c5-4515-450f-a057-310f8e713d12",
   "metadata": {},
   "outputs": [
    {
     "data": {
      "text/plain": [
       "array([[ -9.1139443 ,   6.81361629],\n",
       "       [ -9.35457578,   7.09278959],\n",
       "       [ -2.01567068,   8.28177994],\n",
       "       [ -7.01023591,  -6.22084348],\n",
       "       [-10.06120248,   6.71867113]])"
      ]
     },
     "execution_count": 8,
     "metadata": {},
     "output_type": "execute_result"
    }
   ],
   "source": [
    "# look at the first five elements for each of the variables returned by make_blobs():\n",
    "features[:5]"
   ]
  },
  {
   "cell_type": "code",
   "execution_count": 9,
   "id": "5430aa92-4e0c-4cb7-905a-7e5de9c3e6aa",
   "metadata": {},
   "outputs": [
    {
     "data": {
      "text/plain": [
       "array([3, 3, 0, 2, 3])"
      ]
     },
     "execution_count": 9,
     "metadata": {},
     "output_type": "execute_result"
    }
   ],
   "source": [
    "true_labels[:5]"
   ]
  },
  {
   "cell_type": "code",
   "execution_count": 10,
   "id": "c47de9ad-f038-4dec-86db-5bfa4a4c12a0",
   "metadata": {},
   "outputs": [
    {
     "data": {
      "text/plain": [
       "<matplotlib.collections.PathCollection at 0x1f8daa7a610>"
      ]
     },
     "execution_count": 10,
     "metadata": {},
     "output_type": "execute_result"
    },
    {
     "data": {
      "image/png": "[encoded data removed]",
      "text/plain": [
       "<Figure size 432x288 with 1 Axes>"
      ]
     },
     "metadata": {
      "needs_background": "light"
     },
     "output_type": "display_data"
    }
   ],
   "source": [
    "# Visualize the data using a scatter plot:\n",
    "plt.scatter(features[:, 0], features[:, 1], s= 50);"
   ]
  },
  {
   "cell_type": "markdown",
   "id": "fa02cb77-1203-4d15-b92f-4c39ddafaea7",
   "metadata": {},
   "source": [
    "By eye, it is relatively easy to pick out the four clusters."
   ]
  },
  {
   "cell_type": "code",
   "execution_count": 11,
   "id": "abb973de-4333-4eaf-8ffb-c85fd00b1031",
   "metadata": {},
   "outputs": [
    {
     "data": {
      "text/plain": [
       "array([[-1.09518511,  0.64043749],\n",
       "       [-1.14131498,  0.68554929],\n",
       "       [ 0.26557797,  0.87767903],\n",
       "       [-0.6918971 , -1.46580952],\n",
       "       [-1.27677771,  0.62509524]])"
      ]
     },
     "execution_count": 11,
     "metadata": {},
     "output_type": "execute_result"
    }
   ],
   "source": [
    "# Feature Scaling\n",
    "scaler = StandardScaler()\n",
    "X = scaler.fit_transform(features)\n",
    "X[:5]"
   ]
  },
  {
   "cell_type": "markdown",
   "id": "1ccb3b6b-2970-46e1-8f05-90518daf7c17",
   "metadata": {},
   "source": [
    "## Building a K-Means Model"
   ]
  },
  {
   "cell_type": "markdown",
   "id": "0d612e9c-ee42-4fa3-89d7-ceee12956171",
   "metadata": {},
   "source": [
    "Now the data is ready to be clustered. The KMeans estimator class in scikit-learn is where you set the algorithm parameters before fitting the estimator to the data. The scikit-learn implementation is flexible, providing several parameters that can be tuned.\n",
    "\n",
    "Here are the parameters used in this example:\n",
    "\n",
    "* **init** controls the initialization technique. The standard version of the k-means algorithm is implemented by setting init to \"random\". Setting this to \"k-means++\" employs an advanced trick to speed up convergence, which you’ll use later.\n",
    "\n",
    "* **n_clusters** sets k for the clustering step. This is the **most important parameter for k-means**.\n",
    "\n",
    "* **n_init** sets the number of initializations to perform. This is important because two runs can converge on different cluster assignments. The default behavior for the scikit-learn algorithm is to perform ten k-means runs and return the results of the one with the lowest SSE.\n",
    "\n",
    "* **max_iter** sets the number of maximum iterations for each initialization of the k-means algorithm.\n",
    "\n",
    "Instantiate the KMeans class with the following arguments:"
   ]
  },
  {
   "cell_type": "code",
   "execution_count": 13,
   "id": "2a4090be-51f4-422c-bf1d-3b03d1d4d42c",
   "metadata": {},
   "outputs": [],
   "source": [
    "kmeans = KMeans(init = 'random', n_clusters = 4,\n",
    "               n_init = 10, max_iter= 300, \n",
    "               random_state= 42)"
   ]
  },
  {
   "cell_type": "code",
   "execution_count": 14,
   "id": "42e09d9b-86e1-4d30-81c7-76cf3c05f44e",
   "metadata": {},
   "outputs": [
    {
     "data": {
      "text/plain": [
       "KMeans(init='random', n_clusters=4, random_state=42)"
      ]
     },
     "execution_count": 14,
     "metadata": {},
     "output_type": "execute_result"
    }
   ],
   "source": [
    "# Training the model\n",
    "# fit it to the data in scaled_features. This will perform ten runs of the k-means algorithm on your data with a maximum of 300 iterations per run\n",
    "kmeans.fit(X)"
   ]
  },
  {
   "cell_type": "markdown",
   "id": "94906e53-6112-4b0f-949d-946d8f757176",
   "metadata": {},
   "source": [
    "### Assessing the attributes from training\n",
    "Statistics from the initialization run with the lowest SSE are available as attributes of kmeans after calling .fit():"
   ]
  },
  {
   "cell_type": "code",
   "execution_count": 15,
   "id": "2948336c-8abd-49ae-95ea-2f28acaef162",
   "metadata": {},
   "outputs": [
    {
     "data": {
      "text/plain": [
       "6.4154443294520505"
      ]
     },
     "execution_count": 15,
     "metadata": {},
     "output_type": "execute_result"
    }
   ],
   "source": [
    "# The lowest SSE value\n",
    "kmeans.inertia_"
   ]
  },
  {
   "cell_type": "code",
   "execution_count": 16,
   "id": "f45f359a-a522-43d0-9083-97893919919d",
   "metadata": {},
   "outputs": [
    {
     "data": {
      "text/plain": [
       "array([[ 1.55047856, -0.13507979],\n",
       "       [-0.66142128, -1.56752677],\n",
       "       [ 0.15256919,  0.99257342],\n",
       "       [-1.04162647,  0.71003314]])"
      ]
     },
     "execution_count": 16,
     "metadata": {},
     "output_type": "execute_result"
    }
   ],
   "source": [
    "# Final locations of the centroids\n",
    "kmeans.cluster_centers_"
   ]
  },
  {
   "cell_type": "code",
   "execution_count": 17,
   "id": "79e49738-0e85-429b-b0e7-14870cb3c48e",
   "metadata": {},
   "outputs": [
    {
     "data": {
      "text/plain": [
       "3"
      ]
     },
     "execution_count": 17,
     "metadata": {},
     "output_type": "execute_result"
    }
   ],
   "source": [
    "# The number of iterations required to converge\n",
    "kmeans.n_iter_"
   ]
  },
  {
   "cell_type": "code",
   "execution_count": 19,
   "id": "8d0c4e5e-80a3-43cc-a07f-eb28e4f4e08b",
   "metadata": {},
   "outputs": [
    {
     "data": {
      "text/plain": [
       "array([3, 3, 2, 1, 3])"
      ]
     },
     "execution_count": 19,
     "metadata": {},
     "output_type": "execute_result"
    }
   ],
   "source": [
    "# Finally, the cluster assignments are stored as a one-dimensional NumPy array in kmeans.labels_. Here’s a look at the first five predicted labels:\n",
    "kmeans.labels_[:5]"
   ]
  },
  {
   "cell_type": "markdown",
   "id": "efde8d51-174d-40ee-928a-b210d7d43852",
   "metadata": {},
   "source": [
    "**Note:** Ordering of cluster labels is dependent on the initialization. So it's normal to see that clusters with true_labels as 3 labeled with 2 here. This doesn’t affect clustering evaluation metrics."
   ]
  },
  {
   "cell_type": "code",
   "execution_count": 20,
   "id": "9d583fa8-ec3e-4632-82e9-0b1ca08f0f19",
   "metadata": {},
   "outputs": [
    {
     "data": {
      "text/plain": [
       "array([3, 3, 2, 1, 3])"
      ]
     },
     "execution_count": 20,
     "metadata": {},
     "output_type": "execute_result"
    }
   ],
   "source": [
    "# Rather than using labels_, you can also get the predicted the labels using the `predict` method.\n",
    "y_kmeans = kmeans.predict(X)\n",
    "y_kmeans[:5]"
   ]
  },
  {
   "cell_type": "markdown",
   "id": "e34f9ece-22d0-4f60-ad85-822f1b4db135",
   "metadata": {},
   "source": [
    "### Visualizing results"
   ]
  },
  {
   "cell_type": "code",
   "execution_count": 21,
   "id": "28d7c144-5120-48c0-8cb1-ec19e5308059",
   "metadata": {},
   "outputs": [
    {
     "data": {
      "image/png": "[encoded data removed]",
      "text/plain": [
       "<Figure size 432x288 with 1 Axes>"
      ]
     },
     "metadata": {
      "needs_background": "light"
     },
     "output_type": "display_data"
    }
   ],
   "source": [
    "plt.scatter(X[:, 0], X[:, 1], c=y_kmeans, s=50, cmap='viridis')\n",
    "\n",
    "centers = kmeans.cluster_centers_\n",
    "plt.scatter(centers[:, 0], centers[:, 1], c='black', s=200, alpha=0.5);"
   ]
  },
  {
   "cell_type": "markdown",
   "id": "25c0b588-99b3-4bfc-ac49-30ce8c0f4f0f",
   "metadata": {},
   "source": [
    "The good news is that the k-means algorithm (at least in this simple case) assigns the points to clusters very similarly to how we might assign them by eye.\n"
   ]
  }
 ],
 "metadata": {
  "kernelspec": {
   "display_name": "Python 3",
   "language": "python",
   "name": "python3"
  },
  "language_info": {
   "codemirror_mode": {
    "name": "ipython",
    "version": 3
   },
   "file_extension": ".py",
   "mimetype": "text/x-python",
   "name": "python",
   "nbconvert_exporter": "python",
   "pygments_lexer": "ipython3",
   "version": "3.8.8"
  }
 },
 "nbformat": 4,
 "nbformat_minor": 5
}
